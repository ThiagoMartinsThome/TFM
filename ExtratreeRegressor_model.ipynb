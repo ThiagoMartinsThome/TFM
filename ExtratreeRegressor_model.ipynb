{
  "nbformat": 4,
  "nbformat_minor": 0,
  "metadata": {
    "colab": {
      "name": "ExtratreeRegressor_model.ipynb",
      "provenance": [],
      "machine_shape": "hm",
      "mount_file_id": "17gJHTrnfefnz5-dM6vpSTtIfCZXA2KFy",
      "authorship_tag": "ABX9TyMLp4yRxWlvzwZEJd29SfFm",
      "include_colab_link": true
    },
    "kernelspec": {
      "name": "python3",
      "display_name": "Python 3"
    }
  },
  "cells": [
    {
      "cell_type": "markdown",
      "metadata": {
        "id": "view-in-github",
        "colab_type": "text"
      },
      "source": [
        "<a href=\"https://colab.research.google.com/github/ThiagoMartinsThome/TFM/blob/master/ExtratreeRegressor_model.ipynb\" target=\"_parent\"><img src=\"https://colab.research.google.com/assets/colab-badge.svg\" alt=\"Open In Colab\"/></a>"
      ]
    },
    {
      "cell_type": "code",
      "metadata": {
        "id": "zdQBsP0AZZNo",
        "colab_type": "code",
        "colab": {}
      },
      "source": [
        "# Import Libraries\n",
        "import numpy as np\n",
        "import pandas as pd\n",
        "from pylab import rcParams\n",
        "import matplotlib.pyplot as plt\n",
        "from matplotlib import rc\n",
        "import math\n",
        "from sklearn.preprocessing import MinMaxScaler\n",
        "from sklearn.model_selection import cross_val_score,  cross_validate\n",
        "from sklearn.model_selection import KFold\n",
        "from sklearn.pipeline import Pipeline, make_union\n",
        "from sklearn.preprocessing import PowerTransformer, QuantileTransformer, RobustScaler\n",
        "from sklearn.pipeline import FeatureUnion\n",
        "from sklearn.compose import TransformedTargetRegressor, ColumnTransformer\n",
        "from sklearn.ensemble import ExtraTreesRegressor, RandomForestRegressor\n",
        "from sklearn.preprocessing import StandardScaler, LabelEncoder, OneHotEncoder\n",
        "from sklearn.model_selection import TimeSeriesSplit, GridSearchCV\n",
        "from sklearn.tree import DecisionTreeRegressor\n",
        "from sklearn.model_selection import train_test_split\n",
        "from sklearn.decomposition import PCA\n",
        "import joblib\n",
        "from sklearn.metrics import mean_squared_error , mean_absolute_error, r2_score\n",
        "from sklearn.model_selection import TimeSeriesSplit, GridSearchCV\n",
        "\n",
        "rcParams['figure.figsize'] = 14, 8"
      ],
      "execution_count": 1,
      "outputs": []
    },
    {
      "cell_type": "markdown",
      "metadata": {
        "id": "g14jZtS5u1ZP",
        "colab_type": "text"
      },
      "source": [
        "## Load and prepare the data"
      ]
    },
    {
      "cell_type": "markdown",
      "metadata": {
        "id": "IRmGCjV7vfok",
        "colab_type": "text"
      },
      "source": [
        "#### Load the data"
      ]
    },
    {
      "cell_type": "code",
      "metadata": {
        "id": "3VYqUevFvd1p",
        "colab_type": "code",
        "colab": {
          "base_uri": "https://localhost:8080/",
          "height": 500
        },
        "outputId": "5dca53c1-da14-4f73-fac1-0d262dbf00ce"
      },
      "source": [
        "# load data\n",
        "data = pd.read_csv('/content/drive/My Drive/Colab Notebooks/TFM/tradebot_tfm/data_20day_chg_target.zip', parse_dates=['date'])\n",
        "data.drop('long_name', axis=1, inplace=True)\n",
        "data.dropna(inplace=True, axis=0)\n",
        "data.sort_values(by=['ticker', 'date'], ascending=True, inplace=True)\n",
        "data.set_index('date', inplace=True)\n",
        "\n",
        "print('Null values: ', data.isnull().sum().sum())\n",
        "\n",
        "data.head()"
      ],
      "execution_count": 2,
      "outputs": [
        {
          "output_type": "stream",
          "text": [
            "Null values:  0\n"
          ],
          "name": "stdout"
        },
        {
          "output_type": "execute_result",
          "data": {
            "text/html": [
              "<div>\n",
              "<style scoped>\n",
              "    .dataframe tbody tr th:only-of-type {\n",
              "        vertical-align: middle;\n",
              "    }\n",
              "\n",
              "    .dataframe tbody tr th {\n",
              "        vertical-align: top;\n",
              "    }\n",
              "\n",
              "    .dataframe thead th {\n",
              "        text-align: right;\n",
              "    }\n",
              "</style>\n",
              "<table border=\"1\" class=\"dataframe\">\n",
              "  <thead>\n",
              "    <tr style=\"text-align: right;\">\n",
              "      <th></th>\n",
              "      <th>ticker</th>\n",
              "      <th>open</th>\n",
              "      <th>high</th>\n",
              "      <th>low</th>\n",
              "      <th>close</th>\n",
              "      <th>volume</th>\n",
              "      <th>sp_open</th>\n",
              "      <th>sp_high</th>\n",
              "      <th>sp_low</th>\n",
              "      <th>sp_close</th>\n",
              "      <th>sp_volume</th>\n",
              "      <th>sp_percent_change</th>\n",
              "      <th>percent_change</th>\n",
              "      <th>relative_change</th>\n",
              "      <th>year</th>\n",
              "      <th>month</th>\n",
              "      <th>day</th>\n",
              "      <th>day_of_year</th>\n",
              "      <th>week_of_year</th>\n",
              "      <th>quarter</th>\n",
              "      <th>f_14_period_rsi</th>\n",
              "      <th>f_14_period_stoch_k</th>\n",
              "      <th>f_20_period_cci</th>\n",
              "      <th>up_move</th>\n",
              "      <th>down_move</th>\n",
              "      <th>plus</th>\n",
              "      <th>minus</th>\n",
              "      <th>f_14_period_adx</th>\n",
              "      <th>diplus</th>\n",
              "      <th>diminus</th>\n",
              "      <th>ao</th>\n",
              "      <th>mom</th>\n",
              "      <th>macd</th>\n",
              "      <th>signal_x</th>\n",
              "      <th>f_14_period_stochastic_rsi</th>\n",
              "      <th>f_14_williams_r</th>\n",
              "      <th>bull</th>\n",
              "      <th>bear</th>\n",
              "      <th>uo</th>\n",
              "      <th>f_8_period_vama</th>\n",
              "      <th>deltawma</th>\n",
              "      <th>f_16_period_hma</th>\n",
              "      <th>tenkan</th>\n",
              "      <th>kijun</th>\n",
              "      <th>f_9_period_smm</th>\n",
              "      <th>f_9_period_ssma</th>\n",
              "      <th>f_9_period_dema</th>\n",
              "      <th>f_9_period_tema</th>\n",
              "      <th>f_18_period_trima</th>\n",
              "      <th>f_20_period_trix</th>\n",
              "      <th>f_10_period_er</th>\n",
              "      <th>f_20_period_kama</th>\n",
              "      <th>f_26_period_zlema</th>\n",
              "      <th>f_9_period_wma</th>\n",
              "      <th>f_20_period_evwma</th>\n",
              "      <th>vwap</th>\n",
              "      <th>ppo</th>\n",
              "      <th>signal_y</th>\n",
              "      <th>histo</th>\n",
              "      <th>roc</th>\n",
              "      <th>f_5_period_sma</th>\n",
              "      <th>f_5_period_ema</th>\n",
              "      <th>f_10_period_sma</th>\n",
              "      <th>f_10_period_ema</th>\n",
              "      <th>f_20_period_sma</th>\n",
              "      <th>f_20_period_ema</th>\n",
              "      <th>f_30_period_sma</th>\n",
              "      <th>f_30_period_ema</th>\n",
              "      <th>f_50_period_sma</th>\n",
              "      <th>f_50_period_ema</th>\n",
              "      <th>f_100_period_sma</th>\n",
              "      <th>f_100_period_ema</th>\n",
              "      <th>f_200_period_sma</th>\n",
              "      <th>f_200_period_ema</th>\n",
              "      <th>short_result</th>\n",
              "      <th>sector</th>\n",
              "      <th>industry</th>\n",
              "    </tr>\n",
              "    <tr>\n",
              "      <th>date</th>\n",
              "      <th></th>\n",
              "      <th></th>\n",
              "      <th></th>\n",
              "      <th></th>\n",
              "      <th></th>\n",
              "      <th></th>\n",
              "      <th></th>\n",
              "      <th></th>\n",
              "      <th></th>\n",
              "      <th></th>\n",
              "      <th></th>\n",
              "      <th></th>\n",
              "      <th></th>\n",
              "      <th></th>\n",
              "      <th></th>\n",
              "      <th></th>\n",
              "      <th></th>\n",
              "      <th></th>\n",
              "      <th></th>\n",
              "      <th></th>\n",
              "      <th></th>\n",
              "      <th></th>\n",
              "      <th></th>\n",
              "      <th></th>\n",
              "      <th></th>\n",
              "      <th></th>\n",
              "      <th></th>\n",
              "      <th></th>\n",
              "      <th></th>\n",
              "      <th></th>\n",
              "      <th></th>\n",
              "      <th></th>\n",
              "      <th></th>\n",
              "      <th></th>\n",
              "      <th></th>\n",
              "      <th></th>\n",
              "      <th></th>\n",
              "      <th></th>\n",
              "      <th></th>\n",
              "      <th></th>\n",
              "      <th></th>\n",
              "      <th></th>\n",
              "      <th></th>\n",
              "      <th></th>\n",
              "      <th></th>\n",
              "      <th></th>\n",
              "      <th></th>\n",
              "      <th></th>\n",
              "      <th></th>\n",
              "      <th></th>\n",
              "      <th></th>\n",
              "      <th></th>\n",
              "      <th></th>\n",
              "      <th></th>\n",
              "      <th></th>\n",
              "      <th></th>\n",
              "      <th></th>\n",
              "      <th></th>\n",
              "      <th></th>\n",
              "      <th></th>\n",
              "      <th></th>\n",
              "      <th></th>\n",
              "      <th></th>\n",
              "      <th></th>\n",
              "      <th></th>\n",
              "      <th></th>\n",
              "      <th></th>\n",
              "      <th></th>\n",
              "      <th></th>\n",
              "      <th></th>\n",
              "      <th></th>\n",
              "      <th></th>\n",
              "      <th></th>\n",
              "      <th></th>\n",
              "      <th></th>\n",
              "      <th></th>\n",
              "      <th></th>\n",
              "    </tr>\n",
              "  </thead>\n",
              "  <tbody>\n",
              "    <tr>\n",
              "      <th>1993-11-11</th>\n",
              "      <td>AAPL</td>\n",
              "      <td>0.921914</td>\n",
              "      <td>0.959390</td>\n",
              "      <td>0.914418</td>\n",
              "      <td>0.940652</td>\n",
              "      <td>35607600.0</td>\n",
              "      <td>28.214053</td>\n",
              "      <td>28.289897</td>\n",
              "      <td>28.119247</td>\n",
              "      <td>28.138208</td>\n",
              "      <td>88900</td>\n",
              "      <td>-0.002688</td>\n",
              "      <td>0.020325</td>\n",
              "      <td>0.023013</td>\n",
              "      <td>1993.0</td>\n",
              "      <td>11.0</td>\n",
              "      <td>11.0</td>\n",
              "      <td>315.0</td>\n",
              "      <td>45.0</td>\n",
              "      <td>4.0</td>\n",
              "      <td>60.349555</td>\n",
              "      <td>59.374851</td>\n",
              "      <td>43.972860</td>\n",
              "      <td>3.747602e-02</td>\n",
              "      <td>-1.499032e-02</td>\n",
              "      <td>0.037476</td>\n",
              "      <td>0.000000e+00</td>\n",
              "      <td>36.022545</td>\n",
              "      <td>29.416429</td>\n",
              "      <td>13.493711</td>\n",
              "      <td>0.102574</td>\n",
              "      <td>0.011243</td>\n",
              "      <td>0.039989</td>\n",
              "      <td>0.044281</td>\n",
              "      <td>0.599610</td>\n",
              "      <td>-40.625149</td>\n",
              "      <td>0.039216</td>\n",
              "      <td>-0.005756</td>\n",
              "      <td>55.330429</td>\n",
              "      <td>0.945870</td>\n",
              "      <td>0.931399</td>\n",
              "      <td>0.937907</td>\n",
              "      <td>0.937112</td>\n",
              "      <td>0.862096</td>\n",
              "      <td>0.944400</td>\n",
              "      <td>0.907955</td>\n",
              "      <td>0.942416</td>\n",
              "      <td>0.926890</td>\n",
              "      <td>0.826442</td>\n",
              "      <td>0.539938</td>\n",
              "      <td>0.050848</td>\n",
              "      <td>0.926042</td>\n",
              "      <td>0.967849</td>\n",
              "      <td>0.935405</td>\n",
              "      <td>0.862179</td>\n",
              "      <td>1.191158</td>\n",
              "      <td>4.528958</td>\n",
              "      <td>5.123036</td>\n",
              "      <td>-0.594078</td>\n",
              "      <td>5.462147</td>\n",
              "      <td>0.928659</td>\n",
              "      <td>0.931656</td>\n",
              "      <td>0.940652</td>\n",
              "      <td>0.927735</td>\n",
              "      <td>0.912732</td>\n",
              "      <td>0.898806</td>\n",
              "      <td>0.842089</td>\n",
              "      <td>0.874856</td>\n",
              "      <td>0.806337</td>\n",
              "      <td>0.862869</td>\n",
              "      <td>0.866003</td>\n",
              "      <td>0.927067</td>\n",
              "      <td>1.220093</td>\n",
              "      <td>1.040218</td>\n",
              "      <td>-10.0</td>\n",
              "      <td>Information Technology</td>\n",
              "      <td>Technology Hardware, Storage &amp; Peripherals</td>\n",
              "    </tr>\n",
              "    <tr>\n",
              "      <th>1993-11-12</th>\n",
              "      <td>AAPL</td>\n",
              "      <td>0.944399</td>\n",
              "      <td>0.959390</td>\n",
              "      <td>0.914418</td>\n",
              "      <td>0.951894</td>\n",
              "      <td>35915600.0</td>\n",
              "      <td>28.195089</td>\n",
              "      <td>28.365738</td>\n",
              "      <td>28.176128</td>\n",
              "      <td>28.270933</td>\n",
              "      <td>108200</td>\n",
              "      <td>0.004717</td>\n",
              "      <td>0.011952</td>\n",
              "      <td>0.007235</td>\n",
              "      <td>1993.0</td>\n",
              "      <td>11.0</td>\n",
              "      <td>12.0</td>\n",
              "      <td>316.0</td>\n",
              "      <td>45.0</td>\n",
              "      <td>4.0</td>\n",
              "      <td>61.832195</td>\n",
              "      <td>68.749683</td>\n",
              "      <td>44.949612</td>\n",
              "      <td>-1.787082e-07</td>\n",
              "      <td>1.703312e-07</td>\n",
              "      <td>0.000000</td>\n",
              "      <td>1.703312e-07</td>\n",
              "      <td>36.100008</td>\n",
              "      <td>27.315254</td>\n",
              "      <td>12.529900</td>\n",
              "      <td>0.095344</td>\n",
              "      <td>0.029981</td>\n",
              "      <td>0.039336</td>\n",
              "      <td>0.043292</td>\n",
              "      <td>0.592462</td>\n",
              "      <td>-31.250317</td>\n",
              "      <td>0.034684</td>\n",
              "      <td>-0.010287</td>\n",
              "      <td>61.292067</td>\n",
              "      <td>0.941706</td>\n",
              "      <td>0.933083</td>\n",
              "      <td>0.933950</td>\n",
              "      <td>0.938361</td>\n",
              "      <td>0.871321</td>\n",
              "      <td>0.948147</td>\n",
              "      <td>0.912837</td>\n",
              "      <td>0.947884</td>\n",
              "      <td>0.936265</td>\n",
              "      <td>0.837211</td>\n",
              "      <td>0.554601</td>\n",
              "      <td>0.133332</td>\n",
              "      <td>0.926584</td>\n",
              "      <td>0.966667</td>\n",
              "      <td>0.937237</td>\n",
              "      <td>0.864885</td>\n",
              "      <td>1.190371</td>\n",
              "      <td>4.429322</td>\n",
              "      <td>4.984293</td>\n",
              "      <td>-0.554971</td>\n",
              "      <td>0.000000</td>\n",
              "      <td>0.927910</td>\n",
              "      <td>0.938402</td>\n",
              "      <td>0.943650</td>\n",
              "      <td>0.932128</td>\n",
              "      <td>0.917979</td>\n",
              "      <td>0.903862</td>\n",
              "      <td>0.851084</td>\n",
              "      <td>0.879827</td>\n",
              "      <td>0.809935</td>\n",
              "      <td>0.866361</td>\n",
              "      <td>0.863433</td>\n",
              "      <td>0.927568</td>\n",
              "      <td>1.216010</td>\n",
              "      <td>1.039203</td>\n",
              "      <td>-7.0</td>\n",
              "      <td>Information Technology</td>\n",
              "      <td>Technology Hardware, Storage &amp; Peripherals</td>\n",
              "    </tr>\n",
              "    <tr>\n",
              "      <th>1993-11-15</th>\n",
              "      <td>AAPL</td>\n",
              "      <td>0.944400</td>\n",
              "      <td>0.981876</td>\n",
              "      <td>0.944400</td>\n",
              "      <td>0.959390</td>\n",
              "      <td>39275600.0</td>\n",
              "      <td>28.327813</td>\n",
              "      <td>28.327813</td>\n",
              "      <td>28.176124</td>\n",
              "      <td>28.251968</td>\n",
              "      <td>243300</td>\n",
              "      <td>-0.000671</td>\n",
              "      <td>0.007875</td>\n",
              "      <td>0.008546</td>\n",
              "      <td>1993.0</td>\n",
              "      <td>11.0</td>\n",
              "      <td>15.0</td>\n",
              "      <td>319.0</td>\n",
              "      <td>46.0</td>\n",
              "      <td>4.0</td>\n",
              "      <td>62.830174</td>\n",
              "      <td>69.231257</td>\n",
              "      <td>72.776436</td>\n",
              "      <td>2.248626e-02</td>\n",
              "      <td>-2.998154e-02</td>\n",
              "      <td>0.022486</td>\n",
              "      <td>0.000000e+00</td>\n",
              "      <td>36.561073</td>\n",
              "      <td>28.873022</td>\n",
              "      <td>11.634907</td>\n",
              "      <td>0.093602</td>\n",
              "      <td>0.014991</td>\n",
              "      <td>0.038973</td>\n",
              "      <td>0.042428</td>\n",
              "      <td>0.587757</td>\n",
              "      <td>-30.768743</td>\n",
              "      <td>0.052215</td>\n",
              "      <td>0.014739</td>\n",
              "      <td>55.698258</td>\n",
              "      <td>0.943250</td>\n",
              "      <td>0.939213</td>\n",
              "      <td>0.935329</td>\n",
              "      <td>0.938778</td>\n",
              "      <td>0.882131</td>\n",
              "      <td>0.948147</td>\n",
              "      <td>0.918009</td>\n",
              "      <td>0.954242</td>\n",
              "      <td>0.945976</td>\n",
              "      <td>0.848118</td>\n",
              "      <td>0.566746</td>\n",
              "      <td>0.071429</td>\n",
              "      <td>0.926963</td>\n",
              "      <td>0.968349</td>\n",
              "      <td>0.940402</td>\n",
              "      <td>0.868122</td>\n",
              "      <td>1.189586</td>\n",
              "      <td>4.362565</td>\n",
              "      <td>4.859948</td>\n",
              "      <td>-0.497383</td>\n",
              "      <td>3.225861</td>\n",
              "      <td>0.935405</td>\n",
              "      <td>0.945398</td>\n",
              "      <td>0.945149</td>\n",
              "      <td>0.937085</td>\n",
              "      <td>0.923413</td>\n",
              "      <td>0.909151</td>\n",
              "      <td>0.860328</td>\n",
              "      <td>0.884960</td>\n",
              "      <td>0.813683</td>\n",
              "      <td>0.870011</td>\n",
              "      <td>0.860565</td>\n",
              "      <td>0.928209</td>\n",
              "      <td>1.211705</td>\n",
              "      <td>1.038288</td>\n",
              "      <td>-8.0</td>\n",
              "      <td>Information Technology</td>\n",
              "      <td>Technology Hardware, Storage &amp; Peripherals</td>\n",
              "    </tr>\n",
              "    <tr>\n",
              "      <th>1993-11-16</th>\n",
              "      <td>AAPL</td>\n",
              "      <td>0.959390</td>\n",
              "      <td>1.026847</td>\n",
              "      <td>0.951895</td>\n",
              "      <td>1.019352</td>\n",
              "      <td>75770800.0</td>\n",
              "      <td>28.308858</td>\n",
              "      <td>28.403664</td>\n",
              "      <td>28.195092</td>\n",
              "      <td>28.384703</td>\n",
              "      <td>492600</td>\n",
              "      <td>0.004698</td>\n",
              "      <td>0.062500</td>\n",
              "      <td>0.057801</td>\n",
              "      <td>1993.0</td>\n",
              "      <td>11.0</td>\n",
              "      <td>16.0</td>\n",
              "      <td>320.0</td>\n",
              "      <td>46.0</td>\n",
              "      <td>4.0</td>\n",
              "      <td>69.663353</td>\n",
              "      <td>94.444463</td>\n",
              "      <td>131.443152</td>\n",
              "      <td>4.497108e-02</td>\n",
              "      <td>-7.494871e-03</td>\n",
              "      <td>0.044971</td>\n",
              "      <td>0.000000e+00</td>\n",
              "      <td>37.634356</td>\n",
              "      <td>33.828155</td>\n",
              "      <td>10.803841</td>\n",
              "      <td>0.100932</td>\n",
              "      <td>0.037476</td>\n",
              "      <td>0.043028</td>\n",
              "      <td>0.042548</td>\n",
              "      <td>0.583771</td>\n",
              "      <td>-5.555537</td>\n",
              "      <td>0.084373</td>\n",
              "      <td>0.009421</td>\n",
              "      <td>59.569664</td>\n",
              "      <td>0.957204</td>\n",
              "      <td>0.964699</td>\n",
              "      <td>0.947400</td>\n",
              "      <td>0.942109</td>\n",
              "      <td>0.893230</td>\n",
              "      <td>0.951894</td>\n",
              "      <td>0.929270</td>\n",
              "      <td>0.980103</td>\n",
              "      <td>0.981341</td>\n",
              "      <td>0.858864</td>\n",
              "      <td>0.582450</td>\n",
              "      <td>0.161291</td>\n",
              "      <td>0.929377</td>\n",
              "      <td>0.979344</td>\n",
              "      <td>0.956059</td>\n",
              "      <td>0.877925</td>\n",
              "      <td>1.188333</td>\n",
              "      <td>4.766695</td>\n",
              "      <td>4.841297</td>\n",
              "      <td>-0.074602</td>\n",
              "      <td>10.569099</td>\n",
              "      <td>0.958640</td>\n",
              "      <td>0.970049</td>\n",
              "      <td>0.948896</td>\n",
              "      <td>0.952042</td>\n",
              "      <td>0.932782</td>\n",
              "      <td>0.919646</td>\n",
              "      <td>0.870821</td>\n",
              "      <td>0.893630</td>\n",
              "      <td>0.818330</td>\n",
              "      <td>0.875869</td>\n",
              "      <td>0.858819</td>\n",
              "      <td>0.930045</td>\n",
              "      <td>1.207848</td>\n",
              "      <td>1.038071</td>\n",
              "      <td>-12.0</td>\n",
              "      <td>Information Technology</td>\n",
              "      <td>Technology Hardware, Storage &amp; Peripherals</td>\n",
              "    </tr>\n",
              "    <tr>\n",
              "      <th>1993-11-17</th>\n",
              "      <td>AAPL</td>\n",
              "      <td>1.019352</td>\n",
              "      <td>1.049333</td>\n",
              "      <td>0.981875</td>\n",
              "      <td>1.004361</td>\n",
              "      <td>75656000.0</td>\n",
              "      <td>28.403647</td>\n",
              "      <td>28.403647</td>\n",
              "      <td>28.157154</td>\n",
              "      <td>28.232998</td>\n",
              "      <td>39600</td>\n",
              "      <td>-0.005345</td>\n",
              "      <td>-0.014706</td>\n",
              "      <td>-0.009361</td>\n",
              "      <td>1993.0</td>\n",
              "      <td>11.0</td>\n",
              "      <td>17.0</td>\n",
              "      <td>321.0</td>\n",
              "      <td>46.0</td>\n",
              "      <td>4.0</td>\n",
              "      <td>66.377966</td>\n",
              "      <td>71.428536</td>\n",
              "      <td>151.958030</td>\n",
              "      <td>2.248565e-02</td>\n",
              "      <td>-2.998086e-02</td>\n",
              "      <td>0.022486</td>\n",
              "      <td>0.000000e+00</td>\n",
              "      <td>38.889732</td>\n",
              "      <td>34.763804</td>\n",
              "      <td>10.032138</td>\n",
              "      <td>0.112770</td>\n",
              "      <td>0.056214</td>\n",
              "      <td>0.044519</td>\n",
              "      <td>0.042942</td>\n",
              "      <td>0.581466</td>\n",
              "      <td>-28.571464</td>\n",
              "      <td>0.098018</td>\n",
              "      <td>0.030561</td>\n",
              "      <td>60.312542</td>\n",
              "      <td>0.967932</td>\n",
              "      <td>0.983253</td>\n",
              "      <td>0.963862</td>\n",
              "      <td>0.950021</td>\n",
              "      <td>0.904185</td>\n",
              "      <td>0.951894</td>\n",
              "      <td>0.937613</td>\n",
              "      <td>0.992828</td>\n",
              "      <td>0.996124</td>\n",
              "      <td>0.869401</td>\n",
              "      <td>0.598100</td>\n",
              "      <td>0.263158</td>\n",
              "      <td>0.933105</td>\n",
              "      <td>0.985639</td>\n",
              "      <td>0.967135</td>\n",
              "      <td>0.885831</td>\n",
              "      <td>1.187179</td>\n",
              "      <td>4.891057</td>\n",
              "      <td>4.851249</td>\n",
              "      <td>0.039808</td>\n",
              "      <td>6.349172</td>\n",
              "      <td>0.975130</td>\n",
              "      <td>0.981487</td>\n",
              "      <td>0.954518</td>\n",
              "      <td>0.961555</td>\n",
              "      <td>0.941401</td>\n",
              "      <td>0.927714</td>\n",
              "      <td>0.880690</td>\n",
              "      <td>0.900774</td>\n",
              "      <td>0.822377</td>\n",
              "      <td>0.880909</td>\n",
              "      <td>0.856885</td>\n",
              "      <td>0.931542</td>\n",
              "      <td>1.203953</td>\n",
              "      <td>1.037685</td>\n",
              "      <td>-12.0</td>\n",
              "      <td>Information Technology</td>\n",
              "      <td>Technology Hardware, Storage &amp; Peripherals</td>\n",
              "    </tr>\n",
              "  </tbody>\n",
              "</table>\n",
              "</div>"
            ],
            "text/plain": [
              "           ticker  ...                                    industry\n",
              "date               ...                                            \n",
              "1993-11-11   AAPL  ...  Technology Hardware, Storage & Peripherals\n",
              "1993-11-12   AAPL  ...  Technology Hardware, Storage & Peripherals\n",
              "1993-11-15   AAPL  ...  Technology Hardware, Storage & Peripherals\n",
              "1993-11-16   AAPL  ...  Technology Hardware, Storage & Peripherals\n",
              "1993-11-17   AAPL  ...  Technology Hardware, Storage & Peripherals\n",
              "\n",
              "[5 rows x 77 columns]"
            ]
          },
          "metadata": {
            "tags": []
          },
          "execution_count": 2
        }
      ]
    },
    {
      "cell_type": "markdown",
      "metadata": {
        "id": "uLC25MnEwaNh",
        "colab_type": "text"
      },
      "source": [
        "#### Define features and targets"
      ]
    },
    {
      "cell_type": "code",
      "metadata": {
        "id": "tzTeephGwg0N",
        "colab_type": "code",
        "colab": {}
      },
      "source": [
        "# Define features and target\n",
        "X, y = data.drop('short_result', axis=1), data['short_result']\n",
        "train = data[(data['year'] <= 2019) & (data['year'] >= 2000)]\n",
        "test = data[data['year'] > 2019]\n",
        "\n",
        "X_train, y_train = train.drop('short_result', axis=1), train['short_result']\n",
        "X_test, y_test = test.drop('short_result', axis=1), test['short_result']"
      ],
      "execution_count": 3,
      "outputs": []
    },
    {
      "cell_type": "code",
      "metadata": {
        "id": "Y87xZZ5rt2iz",
        "colab_type": "code",
        "colab": {
          "base_uri": "https://localhost:8080/",
          "height": 313
        },
        "outputId": "3fae8247-15d3-4db6-e018-2d5864f6a64d"
      },
      "source": [
        "#Pipeline\n",
        "#Column transformation\n",
        "# determine categorical and numerical features\n",
        "numerical_cols = X.select_dtypes(include=['int64', 'float64']).columns\n",
        "categorical_cols = X.select_dtypes(include=['object', 'bool']).columns\n",
        "\n",
        "# Column preparation\n",
        "transformer = [('scaler', StandardScaler(), numerical_cols),\n",
        "               ('onehot', OneHotEncoder(sparse=False), categorical_cols)]\n",
        "col_transform = ColumnTransformer(transformers=transformer)\n",
        "\n",
        "pipeline_x = Pipeline(steps=[('prep', col_transform),\n",
        "                             ('pca', PCA(n_components=45, random_state=1))])\n",
        "pipeline_y =  Pipeline(steps=[('scaler', PowerTransformer())])\n",
        "\n",
        "pipeline_x.fit(X)\n",
        "pipeline_y.fit(y.values.reshape(-1, 1))\n",
        "\n",
        "joblib.dump(pipeline_x, 'pipeline_x.pkl', compress=1)\n",
        "joblib.dump(pipeline_y, 'pipeline_y.pkl', compress=1)\n",
        "\n",
        "with open('pipeline_x.pkl',  'rb') as f_x:\n",
        "    pipeline_x_loaded = joblib.load(f_x)\n",
        "\n",
        "with open('pipeline_y.pkl',  'rb') as f_y:\n",
        "    pipeline_y_loaded = joblib.load(f_y)\n",
        "\n",
        "X_train_scaled, y_train_scaled = pipeline_x_loaded.transform(X_train), pipeline_y_loaded.transform(y_train.values.reshape((-1,1)))\n",
        "\n",
        "X_train_scaled.astype('float32')\n",
        "y_train_scaled.astype('float32')\n",
        "\n",
        "print('Min value: ', round(X_train_scaled.min(),2))\n",
        "print('Max value: ', round(X_train_scaled.max(),2))\n",
        "print(X_train_scaled.shape)\n",
        "plt.hist(X_train_scaled);"
      ],
      "execution_count": 5,
      "outputs": [
        {
          "output_type": "stream",
          "text": [
            "Min value:  -62.8\n",
            "Max value:  85.24\n",
            "(222530, 45)\n"
          ],
          "name": "stdout"
        },
        {
          "output_type": "display_data",
          "data": {
            "image/png": "[encoded data removed]",
            "text/plain": [
              "<Figure size 432x288 with 1 Axes>"
            ]
          },
          "metadata": {
            "tags": [],
            "needs_background": "light"
          }
        }
      ]
    },
    {
      "cell_type": "code",
      "metadata": {
        "id": "NxKoGWmKSgqB",
        "colab_type": "code",
        "colab": {
          "base_uri": "https://localhost:8080/",
          "height": 297
        },
        "outputId": "0c41a39b-444c-4c96-fead-7d8da86b1217"
      },
      "source": [
        "print('Min value: ', round(y_train_scaled.min(),2))\n",
        "print('Max value: ', round(y_train_scaled.max(),2))\n",
        "plt.hist(y_train_scaled, bins=200);"
      ],
      "execution_count": 6,
      "outputs": [
        {
          "output_type": "stream",
          "text": [
            "Min value:  -16.08\n",
            "Max value:  15.62\n"
          ],
          "name": "stdout"
        },
        {
          "output_type": "display_data",
          "data": {
            "image/png": "[encoded data removed]",
            "text/plain": [
              "<Figure size 432x288 with 1 Axes>"
            ]
          },
          "metadata": {
            "tags": [],
            "needs_background": "light"
          }
        }
      ]
    },
    {
      "cell_type": "markdown",
      "metadata": {
        "id": "Ij6Qb1DQxuTk",
        "colab_type": "text"
      },
      "source": [
        "## Build the model"
      ]
    },
    {
      "cell_type": "code",
      "metadata": {
        "id": "EDcGuKmDtM-F",
        "colab_type": "code",
        "colab": {
          "base_uri": "https://localhost:8080/",
          "height": 166
        },
        "outputId": "cab8b892-ca48-4559-b010-65b5dca083bb"
      },
      "source": [
        "# Perform grid search for hyperparameters. \n",
        "def Grid_Search_CV_ETR(X_train, y_train):\n",
        "    clf = ExtraTreesRegressor()\n",
        "    param_grid = { \n",
        "            \"n_estimators\"      : [100, 250],\n",
        "            \"max_features\"      : [\"auto\", \"sqrt\", \"log2\"],\n",
        "            \"warm_start\"        : [True, False]\n",
        "            }\n",
        "\n",
        "    tss_splits = TimeSeriesSplit(n_splits=3).split(X_train)\n",
        "    grid = GridSearchCV(clf, param_grid, cv=tss_splits, verbose=1, n_jobs=-1)\n",
        "\n",
        "    grid.fit(X_train, y_train)\n",
        "\n",
        "    return grid.best_score_ , grid.best_params_\n",
        "\n",
        "best_score, best_params = Grid_Search_CV_ETR(X_train_scaled, y_train_scaled.ravel())\n"
      ],
      "execution_count": null,
      "outputs": [
        {
          "output_type": "stream",
          "text": [
            "Fitting 3 folds for each of 12 candidates, totalling 36 fits\n"
          ],
          "name": "stdout"
        },
        {
          "output_type": "stream",
          "text": [
            "[Parallel(n_jobs=-1)]: Using backend LokyBackend with 4 concurrent workers.\n",
            "/usr/local/lib/python3.6/dist-packages/joblib/externals/loky/process_executor.py:691: UserWarning: A worker stopped while some jobs were given to the executor. This can be caused by a too short worker timeout or by a memory leak.\n",
            "  \"timeout or by a memory leak.\", UserWarning\n",
            "[Parallel(n_jobs=-1)]: Done  36 out of  36 | elapsed:  6.1min finished\n"
          ],
          "name": "stderr"
        },
        {
          "output_type": "stream",
          "text": [
            "250\n",
            "sqrt\n"
          ],
          "name": "stdout"
        }
      ]
    },
    {
      "cell_type": "code",
      "metadata": {
        "id": "caYNZx4CTkKT",
        "colab_type": "code",
        "colab": {
          "base_uri": "https://localhost:8080/",
          "height": 72
        },
        "outputId": "76fcb479-b347-4c9d-e30b-595ed524c388"
      },
      "source": [
        "ne = best_params['n_estimators']\n",
        "mf = best_params['max_features']\n",
        "ws = best_params['warm_start']\n",
        "print(ne)\n",
        "print(mf)\n",
        "print(ws)\n"
      ],
      "execution_count": null,
      "outputs": [
        {
          "output_type": "stream",
          "text": [
            "250\n",
            "sqrt\n",
            "True\n"
          ],
          "name": "stdout"
        }
      ]
    },
    {
      "cell_type": "code",
      "metadata": {
        "id": "laLrnIfsasbT",
        "colab_type": "code",
        "colab": {}
      },
      "source": [
        "clf = ExtraTreesRegressor(n_estimators=250, max_features='sqrt', warm_start=True)\n",
        "\n",
        "clf.fit(X_train_scaled, y_train_scaled.ravel())\n",
        "\n",
        "joblib.dump(clf, 'etr_model.pkl', compress=3)\n",
        "\n",
        "with open('etr_model.pkl', 'rb') as f:\n",
        "    loaded_model = joblib.load(f)"
      ],
      "execution_count": 7,
      "outputs": []
    },
    {
      "cell_type": "markdown",
      "metadata": {
        "id": "xh5SHsZ83dtz",
        "colab_type": "text"
      },
      "source": [
        "## Test the model"
      ]
    },
    {
      "cell_type": "code",
      "metadata": {
        "id": "jxkX6h-Oasgl",
        "colab_type": "code",
        "colab": {
          "base_uri": "https://localhost:8080/",
          "height": 33
        },
        "outputId": "ec632255-4b85-4613-94ab-b56429517f8b"
      },
      "source": [
        "X_test_scaled = pipeline_x_loaded.transform(X_test)\n",
        "y_test_scaled = pipeline_y_loaded.transform(y_test.values.reshape((-1,1)))\n",
        "\n",
        "X_test_scaled.astype('float32')\n",
        "y_test_scaled.astype('float32')\n",
        "\n",
        "\n",
        "yhat = loaded_model.predict(X_test_scaled)\n",
        "predicted = pipeline_y.inverse_transform(yhat.reshape((-1,1)))\n",
        "\n",
        "print(round(loaded_model.score(X_test_scaled, y_test_scaled), 2))"
      ],
      "execution_count": 8,
      "outputs": [
        {
          "output_type": "stream",
          "text": [
            "0.03\n"
          ],
          "name": "stdout"
        }
      ]
    },
    {
      "cell_type": "markdown",
      "metadata": {
        "id": "i3swDMY03nwO",
        "colab_type": "text"
      },
      "source": [
        "#### Predictions"
      ]
    },
    {
      "cell_type": "code",
      "metadata": {
        "id": "O_bIYqnht2ps",
        "colab_type": "code",
        "colab": {
          "base_uri": "https://localhost:8080/",
          "height": 375
        },
        "outputId": "12758c02-24aa-4be4-8530-f326731b650f"
      },
      "source": [
        "# Predictions table\n",
        "df_predicted = pd.DataFrame()\n",
        "df_predicted['short_result'] = y_test\n",
        "df_predicted['predictions'] = predicted\n",
        "#df_predicted = round(df_predicted,1)\n",
        "print(df_predicted.head(20))"
      ],
      "execution_count": 9,
      "outputs": [
        {
          "output_type": "stream",
          "text": [
            "            short_result  predictions\n",
            "date                                 \n",
            "2020-01-02           4.0     1.819483\n",
            "2020-01-03           3.0     2.243402\n",
            "2020-01-06           5.0     1.488759\n",
            "2020-01-07           5.0     1.842928\n",
            "2020-01-08           4.0     1.477691\n",
            "2020-01-09           2.0     0.592580\n",
            "2020-01-10           1.0     1.399028\n",
            "2020-01-13          -1.0     1.819275\n",
            "2020-01-14           2.0     1.088711\n",
            "2020-01-15           2.0     1.399650\n",
            "2020-01-16           2.0    -0.426877\n",
            "2020-01-17          -1.0     1.510540\n",
            "2020-01-21           1.0     0.905244\n",
            "2020-01-22           0.0     1.323657\n",
            "2020-01-23          -2.0    -0.403929\n",
            "2020-01-24          -4.0     0.501713\n",
            "2020-01-27          -3.0     0.892396\n",
            "2020-01-28          -3.0     1.458645\n",
            "2020-01-29          -7.0     2.239533\n",
            "2020-01-30          -6.0     0.379857\n"
          ],
          "name": "stdout"
        }
      ]
    },
    {
      "cell_type": "code",
      "metadata": {
        "colab_type": "code",
        "id": "JOx78h9j9qmO",
        "colab": {
          "base_uri": "https://localhost:8080/",
          "height": 265
        },
        "outputId": "06c9c789-f7f8-4b3c-faa7-19b16defd40d"
      },
      "source": [
        "# Plot the predictions\n",
        "plt.plot(df_predicted.iloc[:100]);"
      ],
      "execution_count": 10,
      "outputs": [
        {
          "output_type": "display_data",
          "data": {
            "image/png": "[encoded data removed]",
            "text/plain": [
              "<Figure size 432x288 with 1 Axes>"
            ]
          },
          "metadata": {
            "tags": [],
            "needs_background": "light"
          }
        }
      ]
    },
    {
      "cell_type": "code",
      "metadata": {
        "colab_type": "code",
        "id": "JSWa8mwFS-Ic",
        "colab": {
          "base_uri": "https://localhost:8080/",
          "height": 105
        },
        "outputId": "6010a362-90ca-434d-9d2e-008dd915bcb0"
      },
      "source": [
        "\n",
        "# ånalyse the values\n",
        "df_predicted.describe().T"
      ],
      "execution_count": 11,
      "outputs": [
        {
          "output_type": "execute_result",
          "data": {
            "text/html": [
              "<div>\n",
              "<style scoped>\n",
              "    .dataframe tbody tr th:only-of-type {\n",
              "        vertical-align: middle;\n",
              "    }\n",
              "\n",
              "    .dataframe tbody tr th {\n",
              "        vertical-align: top;\n",
              "    }\n",
              "\n",
              "    .dataframe thead th {\n",
              "        text-align: right;\n",
              "    }\n",
              "</style>\n",
              "<table border=\"1\" class=\"dataframe\">\n",
              "  <thead>\n",
              "    <tr style=\"text-align: right;\">\n",
              "      <th></th>\n",
              "      <th>count</th>\n",
              "      <th>mean</th>\n",
              "      <th>std</th>\n",
              "      <th>min</th>\n",
              "      <th>25%</th>\n",
              "      <th>50%</th>\n",
              "      <th>75%</th>\n",
              "      <th>max</th>\n",
              "    </tr>\n",
              "  </thead>\n",
              "  <tbody>\n",
              "    <tr>\n",
              "      <th>short_result</th>\n",
              "      <td>8182.0</td>\n",
              "      <td>0.396358</td>\n",
              "      <td>7.466665</td>\n",
              "      <td>-40.000000</td>\n",
              "      <td>-4.000000</td>\n",
              "      <td>0.000000</td>\n",
              "      <td>4.000000</td>\n",
              "      <td>38.000000</td>\n",
              "    </tr>\n",
              "    <tr>\n",
              "      <th>predictions</th>\n",
              "      <td>8182.0</td>\n",
              "      <td>0.294158</td>\n",
              "      <td>1.189169</td>\n",
              "      <td>-8.583629</td>\n",
              "      <td>-0.432409</td>\n",
              "      <td>0.290459</td>\n",
              "      <td>1.002525</td>\n",
              "      <td>11.670579</td>\n",
              "    </tr>\n",
              "  </tbody>\n",
              "</table>\n",
              "</div>"
            ],
            "text/plain": [
              "               count      mean       std  ...       50%       75%        max\n",
              "short_result  8182.0  0.396358  7.466665  ...  0.000000  4.000000  38.000000\n",
              "predictions   8182.0  0.294158  1.189169  ...  0.290459  1.002525  11.670579\n",
              "\n",
              "[2 rows x 8 columns]"
            ]
          },
          "metadata": {
            "tags": []
          },
          "execution_count": 11
        }
      ]
    },
    {
      "cell_type": "code",
      "metadata": {
        "colab_type": "code",
        "id": "6xairsZ3S-Il",
        "colab": {
          "base_uri": "https://localhost:8080/",
          "height": 66
        },
        "outputId": "cb1e1f66-7a90-4be4-b8ab-c921790578c9"
      },
      "source": [
        "# Calculation of Mean Squared Error (MSE) \n",
        "mse = round(mean_squared_error(y_test, predicted), 2)\n",
        "mae = round(mean_absolute_error(y_test, predicted), 2)\n",
        "r2 = round(r2_score(y_test, predicted), 2) \n",
        "print('mse: ', mse)\n",
        "print('mae: ', mae)\n",
        "print('r2: ', r2)"
      ],
      "execution_count": 12,
      "outputs": [
        {
          "output_type": "stream",
          "text": [
            "mse:  54.14\n",
            "mae:  5.49\n",
            "r2:  0.03\n"
          ],
          "name": "stdout"
        }
      ]
    }
  ]
}